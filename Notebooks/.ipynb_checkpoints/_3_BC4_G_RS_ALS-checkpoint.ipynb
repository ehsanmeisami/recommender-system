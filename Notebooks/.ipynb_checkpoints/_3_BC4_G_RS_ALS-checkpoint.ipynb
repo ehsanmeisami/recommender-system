{
 "cells": [
  {
   "cell_type": "markdown",
   "metadata": {},
   "source": [
    "# Implicit Recommender System - ALS"
   ]
  },
  {
   "cell_type": "code",
   "execution_count": 1,
   "metadata": {},
   "outputs": [],
   "source": [
    "# conventional libraries\n",
    "import os\n",
    "import calendar\n",
    "import pandas as pd\n",
    "import numpy as np\n",
    "import datetime\n",
    "import random\n",
    "\n",
    "# data visualizations\n",
    "import plotly.graph_objs as go\n",
    "from plotly.offline import init_notebook_mode,iplot\n",
    "import seaborn as sns\n",
    "import matplotlib.pyplot as plt\n",
    "\n",
    "# algorithm\n",
    "import pandas as pd\n",
    "import numpy as np\n",
    "from sklearn.model_selection import train_test_split\n",
    "from scipy.sparse import coo_matrix\n",
    "from implicit.als import AlternatingLeastSquares\n",
    "from implicit.evaluation import ranking_metrics_at_k\n",
    "from tqdm import tqdm\n",
    "import scipy.sparse as sparse\n",
    "import implicit\n",
    "from sklearn.preprocessing import MinMaxScaler\n",
    "from sklearn import metrics\n",
    "import pickle"
   ]
  },
  {
   "cell_type": "markdown",
   "metadata": {},
   "source": [
    "## Loading data"
   ]
  },
  {
   "cell_type": "code",
   "execution_count": 2,
   "metadata": {
    "scrolled": false
   },
   "outputs": [
    {
     "name": "stdout",
     "output_type": "stream",
     "text": [
      "<class 'pandas.core.frame.DataFrame'>\n",
      "RangeIndex: 399667 entries, 0 to 399666\n",
      "Data columns (total 26 columns):\n",
      " #   Column            Non-Null Count   Dtype  \n",
      "---  ------            --------------   -----  \n",
      " 0   StockCode         399667 non-null  object \n",
      " 1   Description       399667 non-null  object \n",
      " 2   SC_Clean          399667 non-null  int64  \n",
      " 3   Quantity          399667 non-null  int64  \n",
      " 4   InvoiceDate       399667 non-null  object \n",
      " 5   UnitPrice         399667 non-null  float64\n",
      " 6   CustomerID        399667 non-null  int64  \n",
      " 7   Country           399667 non-null  object \n",
      " 8   StockCode_NR      399667 non-null  object \n",
      " 9   StockCode_L       399667 non-null  object \n",
      " 10  QuantityCanceled  399667 non-null  int64  \n",
      " 11  TotalPrice        399667 non-null  float64\n",
      " 12  QuantityInv       399667 non-null  int64  \n",
      " 13  Sales             399667 non-null  float64\n",
      " 14  Year              399667 non-null  int64  \n",
      " 15  Month             399667 non-null  int64  \n",
      " 16  Week              399667 non-null  int64  \n",
      " 17  Year_Month        399667 non-null  object \n",
      " 18  Hour              399667 non-null  int64  \n",
      " 19  weekday_nr        399667 non-null  int64  \n",
      " 20  Day               399667 non-null  int64  \n",
      " 21  is_cancelled      399667 non-null  int64  \n",
      " 22  weekday           399667 non-null  object \n",
      " 23  Quarter           399667 non-null  object \n",
      " 24  Date              399667 non-null  object \n",
      " 25  RefundFlg         399667 non-null  bool   \n",
      "dtypes: bool(1), float64(3), int64(12), object(10)\n",
      "memory usage: 76.6+ MB\n",
      "None\n"
     ]
    },
    {
     "data": {
      "text/html": [
       "<div>\n",
       "<style scoped>\n",
       "    .dataframe tbody tr th:only-of-type {\n",
       "        vertical-align: middle;\n",
       "    }\n",
       "\n",
       "    .dataframe tbody tr th {\n",
       "        vertical-align: top;\n",
       "    }\n",
       "\n",
       "    .dataframe thead th {\n",
       "        text-align: right;\n",
       "    }\n",
       "</style>\n",
       "<table border=\"1\" class=\"dataframe\">\n",
       "  <thead>\n",
       "    <tr style=\"text-align: right;\">\n",
       "      <th></th>\n",
       "      <th>StockCode</th>\n",
       "      <th>Description</th>\n",
       "      <th>SC_Clean</th>\n",
       "      <th>Quantity</th>\n",
       "      <th>InvoiceDate</th>\n",
       "      <th>UnitPrice</th>\n",
       "      <th>CustomerID</th>\n",
       "      <th>Country</th>\n",
       "      <th>StockCode_NR</th>\n",
       "      <th>StockCode_L</th>\n",
       "      <th>...</th>\n",
       "      <th>Week</th>\n",
       "      <th>Year_Month</th>\n",
       "      <th>Hour</th>\n",
       "      <th>weekday_nr</th>\n",
       "      <th>Day</th>\n",
       "      <th>is_cancelled</th>\n",
       "      <th>weekday</th>\n",
       "      <th>Quarter</th>\n",
       "      <th>Date</th>\n",
       "      <th>RefundFlg</th>\n",
       "    </tr>\n",
       "  </thead>\n",
       "  <tbody>\n",
       "    <tr>\n",
       "      <th>0</th>\n",
       "      <td>85123A</td>\n",
       "      <td>white hanging heart t-light holder</td>\n",
       "      <td>3716</td>\n",
       "      <td>6</td>\n",
       "      <td>2010-12-01 08:26:00</td>\n",
       "      <td>2.55</td>\n",
       "      <td>17850</td>\n",
       "      <td>United Kingdom</td>\n",
       "      <td>85123</td>\n",
       "      <td>A</td>\n",
       "      <td>...</td>\n",
       "      <td>48</td>\n",
       "      <td>2010-12</td>\n",
       "      <td>8</td>\n",
       "      <td>3</td>\n",
       "      <td>1</td>\n",
       "      <td>0</td>\n",
       "      <td>Wednesday</td>\n",
       "      <td>Q3</td>\n",
       "      <td>2010-12-01 00:00:00</td>\n",
       "      <td>False</td>\n",
       "    </tr>\n",
       "    <tr>\n",
       "      <th>1</th>\n",
       "      <td>71053</td>\n",
       "      <td>white metal lantern</td>\n",
       "      <td>3724</td>\n",
       "      <td>6</td>\n",
       "      <td>2010-12-01 08:26:00</td>\n",
       "      <td>3.39</td>\n",
       "      <td>17850</td>\n",
       "      <td>United Kingdom</td>\n",
       "      <td>71053</td>\n",
       "      <td>reg</td>\n",
       "      <td>...</td>\n",
       "      <td>48</td>\n",
       "      <td>2010-12</td>\n",
       "      <td>8</td>\n",
       "      <td>3</td>\n",
       "      <td>1</td>\n",
       "      <td>0</td>\n",
       "      <td>Wednesday</td>\n",
       "      <td>Q3</td>\n",
       "      <td>2010-12-01 00:00:00</td>\n",
       "      <td>False</td>\n",
       "    </tr>\n",
       "    <tr>\n",
       "      <th>2</th>\n",
       "      <td>84406B</td>\n",
       "      <td>cream cupid hearts coat hanger</td>\n",
       "      <td>861</td>\n",
       "      <td>8</td>\n",
       "      <td>2010-12-01 08:26:00</td>\n",
       "      <td>2.75</td>\n",
       "      <td>17850</td>\n",
       "      <td>United Kingdom</td>\n",
       "      <td>84406</td>\n",
       "      <td>B</td>\n",
       "      <td>...</td>\n",
       "      <td>48</td>\n",
       "      <td>2010-12</td>\n",
       "      <td>8</td>\n",
       "      <td>3</td>\n",
       "      <td>1</td>\n",
       "      <td>0</td>\n",
       "      <td>Wednesday</td>\n",
       "      <td>Q3</td>\n",
       "      <td>2010-12-01 00:00:00</td>\n",
       "      <td>False</td>\n",
       "    </tr>\n",
       "    <tr>\n",
       "      <th>3</th>\n",
       "      <td>84029G</td>\n",
       "      <td>knitted union flag hot water bottle</td>\n",
       "      <td>1813</td>\n",
       "      <td>6</td>\n",
       "      <td>2010-12-01 08:26:00</td>\n",
       "      <td>3.39</td>\n",
       "      <td>17850</td>\n",
       "      <td>United Kingdom</td>\n",
       "      <td>84029</td>\n",
       "      <td>G</td>\n",
       "      <td>...</td>\n",
       "      <td>48</td>\n",
       "      <td>2010-12</td>\n",
       "      <td>8</td>\n",
       "      <td>3</td>\n",
       "      <td>1</td>\n",
       "      <td>0</td>\n",
       "      <td>Wednesday</td>\n",
       "      <td>Q3</td>\n",
       "      <td>2010-12-01 00:00:00</td>\n",
       "      <td>False</td>\n",
       "    </tr>\n",
       "    <tr>\n",
       "      <th>4</th>\n",
       "      <td>84029E</td>\n",
       "      <td>red woolly hottie white heart.</td>\n",
       "      <td>2776</td>\n",
       "      <td>6</td>\n",
       "      <td>2010-12-01 08:26:00</td>\n",
       "      <td>3.39</td>\n",
       "      <td>17850</td>\n",
       "      <td>United Kingdom</td>\n",
       "      <td>84029</td>\n",
       "      <td>E</td>\n",
       "      <td>...</td>\n",
       "      <td>48</td>\n",
       "      <td>2010-12</td>\n",
       "      <td>8</td>\n",
       "      <td>3</td>\n",
       "      <td>1</td>\n",
       "      <td>0</td>\n",
       "      <td>Wednesday</td>\n",
       "      <td>Q3</td>\n",
       "      <td>2010-12-01 00:00:00</td>\n",
       "      <td>False</td>\n",
       "    </tr>\n",
       "  </tbody>\n",
       "</table>\n",
       "<p>5 rows × 26 columns</p>\n",
       "</div>"
      ],
      "text/plain": [
       "  StockCode                          Description  SC_Clean  Quantity  \\\n",
       "0    85123A   white hanging heart t-light holder      3716         6   \n",
       "1     71053                  white metal lantern      3724         6   \n",
       "2    84406B       cream cupid hearts coat hanger       861         8   \n",
       "3    84029G  knitted union flag hot water bottle      1813         6   \n",
       "4    84029E       red woolly hottie white heart.      2776         6   \n",
       "\n",
       "           InvoiceDate  UnitPrice  CustomerID         Country StockCode_NR  \\\n",
       "0  2010-12-01 08:26:00       2.55       17850  United Kingdom        85123   \n",
       "1  2010-12-01 08:26:00       3.39       17850  United Kingdom        71053   \n",
       "2  2010-12-01 08:26:00       2.75       17850  United Kingdom        84406   \n",
       "3  2010-12-01 08:26:00       3.39       17850  United Kingdom        84029   \n",
       "4  2010-12-01 08:26:00       3.39       17850  United Kingdom        84029   \n",
       "\n",
       "  StockCode_L  ...  Week  Year_Month  Hour  weekday_nr  Day  is_cancelled  \\\n",
       "0           A  ...    48     2010-12     8           3    1             0   \n",
       "1         reg  ...    48     2010-12     8           3    1             0   \n",
       "2           B  ...    48     2010-12     8           3    1             0   \n",
       "3           G  ...    48     2010-12     8           3    1             0   \n",
       "4           E  ...    48     2010-12     8           3    1             0   \n",
       "\n",
       "     weekday Quarter                 Date  RefundFlg  \n",
       "0  Wednesday      Q3  2010-12-01 00:00:00      False  \n",
       "1  Wednesday      Q3  2010-12-01 00:00:00      False  \n",
       "2  Wednesday      Q3  2010-12-01 00:00:00      False  \n",
       "3  Wednesday      Q3  2010-12-01 00:00:00      False  \n",
       "4  Wednesday      Q3  2010-12-01 00:00:00      False  \n",
       "\n",
       "[5 rows x 26 columns]"
      ]
     },
     "execution_count": 2,
     "metadata": {},
     "output_type": "execute_result"
    }
   ],
   "source": [
    "df = pd.read_csv('df_withC.csv', index_col=[0])\n",
    "df.reset_index(drop=True, inplace=True)\n",
    "print(df.info())\n",
    "df.head()"
   ]
  },
  {
   "cell_type": "code",
   "execution_count": 3,
   "metadata": {},
   "outputs": [],
   "source": [
    "df['InvoiceDate'] = pd.to_datetime(df['InvoiceDate'])"
   ]
  },
  {
   "cell_type": "markdown",
   "metadata": {},
   "source": [
    "## Dimensionality Reduction"
   ]
  },
  {
   "cell_type": "code",
   "execution_count": 4,
   "metadata": {},
   "outputs": [
    {
     "data": {
      "text/plain": [
       "Index(['StockCode', 'Description', 'SC_Clean', 'Quantity', 'InvoiceDate',\n",
       "       'UnitPrice', 'CustomerID', 'Country', 'StockCode_NR', 'StockCode_L',\n",
       "       'QuantityCanceled', 'TotalPrice', 'QuantityInv', 'Sales', 'Year',\n",
       "       'Month', 'Week', 'Year_Month', 'Hour', 'weekday_nr', 'Day',\n",
       "       'is_cancelled', 'weekday', 'Quarter', 'Date', 'RefundFlg'],\n",
       "      dtype='object')"
      ]
     },
     "execution_count": 4,
     "metadata": {},
     "output_type": "execute_result"
    }
   ],
   "source": [
    "df.columns"
   ]
  },
  {
   "cell_type": "code",
   "execution_count": 5,
   "metadata": {},
   "outputs": [
    {
     "name": "stderr",
     "output_type": "stream",
     "text": [
      "/opt/anaconda3/envs/DMDSAA/lib/python3.7/site-packages/pandas/core/frame.py:4133: SettingWithCopyWarning:\n",
      "\n",
      "\n",
      "A value is trying to be set on a copy of a slice from a DataFrame\n",
      "\n",
      "See the caveats in the documentation: https://pandas.pydata.org/pandas-docs/stable/user_guide/indexing.html#returning-a-view-versus-a-copy\n",
      "\n"
     ]
    },
    {
     "data": {
      "text/html": [
       "<div>\n",
       "<style scoped>\n",
       "    .dataframe tbody tr th:only-of-type {\n",
       "        vertical-align: middle;\n",
       "    }\n",
       "\n",
       "    .dataframe tbody tr th {\n",
       "        vertical-align: top;\n",
       "    }\n",
       "\n",
       "    .dataframe thead th {\n",
       "        text-align: right;\n",
       "    }\n",
       "</style>\n",
       "<table border=\"1\" class=\"dataframe\">\n",
       "  <thead>\n",
       "    <tr style=\"text-align: right;\">\n",
       "      <th></th>\n",
       "      <th>InvoiceDate</th>\n",
       "      <th>Description</th>\n",
       "      <th>StockCode</th>\n",
       "      <th>Quantity</th>\n",
       "      <th>CustomerID</th>\n",
       "    </tr>\n",
       "  </thead>\n",
       "  <tbody>\n",
       "    <tr>\n",
       "      <th>0</th>\n",
       "      <td>2010-12-01 08:26:00</td>\n",
       "      <td>white hanging heart t-light holder</td>\n",
       "      <td>3716</td>\n",
       "      <td>6</td>\n",
       "      <td>17850</td>\n",
       "    </tr>\n",
       "    <tr>\n",
       "      <th>1</th>\n",
       "      <td>2010-12-01 08:26:00</td>\n",
       "      <td>white metal lantern</td>\n",
       "      <td>3724</td>\n",
       "      <td>6</td>\n",
       "      <td>17850</td>\n",
       "    </tr>\n",
       "    <tr>\n",
       "      <th>2</th>\n",
       "      <td>2010-12-01 08:26:00</td>\n",
       "      <td>cream cupid hearts coat hanger</td>\n",
       "      <td>861</td>\n",
       "      <td>8</td>\n",
       "      <td>17850</td>\n",
       "    </tr>\n",
       "    <tr>\n",
       "      <th>3</th>\n",
       "      <td>2010-12-01 08:26:00</td>\n",
       "      <td>knitted union flag hot water bottle</td>\n",
       "      <td>1813</td>\n",
       "      <td>6</td>\n",
       "      <td>17850</td>\n",
       "    </tr>\n",
       "    <tr>\n",
       "      <th>4</th>\n",
       "      <td>2010-12-01 08:26:00</td>\n",
       "      <td>red woolly hottie white heart.</td>\n",
       "      <td>2776</td>\n",
       "      <td>6</td>\n",
       "      <td>17850</td>\n",
       "    </tr>\n",
       "  </tbody>\n",
       "</table>\n",
       "</div>"
      ],
      "text/plain": [
       "          InvoiceDate                          Description  StockCode  \\\n",
       "0 2010-12-01 08:26:00   white hanging heart t-light holder       3716   \n",
       "1 2010-12-01 08:26:00                  white metal lantern       3724   \n",
       "2 2010-12-01 08:26:00       cream cupid hearts coat hanger        861   \n",
       "3 2010-12-01 08:26:00  knitted union flag hot water bottle       1813   \n",
       "4 2010-12-01 08:26:00       red woolly hottie white heart.       2776   \n",
       "\n",
       "   Quantity  CustomerID  \n",
       "0         6       17850  \n",
       "1         6       17850  \n",
       "2         8       17850  \n",
       "3         6       17850  \n",
       "4         6       17850  "
      ]
     },
     "execution_count": 5,
     "metadata": {},
     "output_type": "execute_result"
    }
   ],
   "source": [
    "df_limit = df[['InvoiceDate','Description','SC_Clean','Quantity','CustomerID']]\n",
    "df_limit.rename(columns={'SC_Clean':'StockCode'}, inplace=True)\n",
    "df_limit.head()"
   ]
  },
  {
   "cell_type": "code",
   "execution_count": 6,
   "metadata": {},
   "outputs": [],
   "source": [
    "df = df_limit.copy()"
   ]
  },
  {
   "cell_type": "markdown",
   "metadata": {},
   "source": [
    "## Reduce Sparsity"
   ]
  },
  {
   "cell_type": "code",
   "execution_count": 7,
   "metadata": {},
   "outputs": [],
   "source": [
    "def threshold_ratings(df, uid_min, iid_min, max_iter=None):\n",
    "    \"\"\"Removes users and items with less than uid_min and iid_min event occurrences, respectively.\n",
    "    Credits: https://www.ethanrosenthal.com/2016/10/19/implicit-mf-part-1/\n",
    "    \"\"\"\n",
    "    n_users = df['CustomerID'].nunique()\n",
    "    n_items = df['StockCode'].nunique()\n",
    "    sparsity = float(df.shape[0]) / float(n_users * n_items) * 100\n",
    "    print('Raw dataset info \\n-----------------')\n",
    "    print('Number of users: {}'.format(n_users))\n",
    "    print('Number of items: {}'.format(n_items))\n",
    "    print('Sparsity: {:4.3f}%'.format(sparsity))\n",
    "    \n",
    "    done, i = False, 0\n",
    "    while not done:\n",
    "        # When we exclude users with freq less than uid_min we might end up with new \n",
    "        # items with freq less than iid_min, so we will have to alternate back and forth\n",
    "        starting_shape = df.shape[0]  # number of existing events\n",
    "\n",
    "        uid_counts = df.groupby('CustomerID').size()  # user id frequencies\n",
    "        df = df[~df['CustomerID'].isin(uid_counts[uid_counts < uid_min].index.tolist())]  # keep events with users with frequency >= uid_min\n",
    "\n",
    "        iid_counts = df.groupby('StockCode').size()  # item id frequencies\n",
    "        df = df[~df['StockCode'].isin(iid_counts[iid_counts < iid_min].index.tolist())]  # keep events with items with frequency >= iid_min\n",
    "\n",
    "        ending_shape = df.shape[0]  # number of existing events after filters\n",
    "        i += 1\n",
    "        if starting_shape == ending_shape or i == max_iter:  # convergence happens\n",
    "            done = True\n",
    "    \n",
    "    if not max_iter:\n",
    "        assert(df.groupby('CustomerID').size().min() >= uid_min)\n",
    "        assert(df.groupby('StockCode').size().min() >= iid_min)\n",
    "    \n",
    "    n_users = df['CustomerID'].nunique()\n",
    "    n_items = df['StockCode'].nunique()\n",
    "    sparsity = float(df.shape[0]) / float(n_users * n_items) * 100\n",
    "    print('Limited dataset info \\n-----------------')\n",
    "    print('Number of iterations until convergence: {}'.format(i))\n",
    "    print('Number of users: {}'.format(n_users))\n",
    "    print('Number of items: {}'.format(n_items))\n",
    "    print('Sparsity: {:4.3f}%'.format(sparsity))\n",
    "    return df"
   ]
  },
  {
   "cell_type": "code",
   "execution_count": 8,
   "metadata": {},
   "outputs": [
    {
     "name": "stdout",
     "output_type": "stream",
     "text": [
      "Raw dataset info \n",
      "-----------------\n",
      "Number of users: 4361\n",
      "Number of items: 3888\n",
      "Sparsity: 2.357%\n",
      "Limited dataset info \n",
      "-----------------\n",
      "Number of iterations until convergence: 3\n",
      "Number of users: 4119\n",
      "Number of items: 3304\n",
      "Sparsity: 2.923%\n"
     ]
    }
   ],
   "source": [
    "# get limited dataset\n",
    "df_limited = threshold_ratings(df, 5, 5)"
   ]
  },
  {
   "cell_type": "markdown",
   "metadata": {},
   "source": [
    "## Train-test Split"
   ]
  },
  {
   "cell_type": "code",
   "execution_count": 9,
   "metadata": {},
   "outputs": [
    {
     "name": "stdout",
     "output_type": "stream",
     "text": [
      "Proportion of train events: 0.71\n"
     ]
    }
   ],
   "source": [
    "# Train-test split\n",
    "start_train = df_limited['InvoiceDate'].min()\n",
    "start_test = start_train + pd.to_timedelta(15, unit='w')\n",
    "end_test = start_test + pd.to_timedelta(5, unit='w')\n",
    "\n",
    "# Create new limited df\n",
    "df_limited = df_limited.loc[(df_limited['InvoiceDate'] > start_train) & (df_limited['InvoiceDate'] <= end_test)]\n",
    "\n",
    "# Create train_split flag\n",
    "df_limited['train_split'] = (df_limited['InvoiceDate'] <= start_test).astype(int)\n",
    "print(\"Proportion of train events: {:.2f}\".format(df_limited['train_split'].mean()))"
   ]
  },
  {
   "cell_type": "code",
   "execution_count": 10,
   "metadata": {},
   "outputs": [
    {
     "data": {
      "image/png": "[encoded data removed]",
      "text/plain": [
       "<Figure size 864x432 with 1 Axes>"
      ]
     },
     "metadata": {
      "needs_background": "light"
     },
     "output_type": "display_data"
    }
   ],
   "source": [
    "# Visualize train and test set\n",
    "data = pd.DatetimeIndex(df_limited['InvoiceDate']).normalize().value_counts().sort_index()\n",
    "fig = plt.figure(figsize=(12,6))\n",
    "plt.plot(data.index, data.values, linestyle=\"-\")\n",
    "plt.xticks(np.arange(data.index[0], data.index[-1], pd.to_timedelta(7, unit='d')), rotation=45)\n",
    "plt.vlines(start_test, 0, data.max(), linestyles='dashed', color='r', label='train-test split')\n",
    "plt.legend()\n",
    "plt.title('Event frequency time series - train and test set')\n",
    "plt.show()"
   ]
  },
  {
   "cell_type": "markdown",
   "metadata": {},
   "source": [
    "## Create train and test rating matrices"
   ]
  },
  {
   "cell_type": "code",
   "execution_count": 11,
   "metadata": {},
   "outputs": [
    {
     "data": {
      "text/html": [
       "<div>\n",
       "<style scoped>\n",
       "    .dataframe tbody tr th:only-of-type {\n",
       "        vertical-align: middle;\n",
       "    }\n",
       "\n",
       "    .dataframe tbody tr th {\n",
       "        vertical-align: top;\n",
       "    }\n",
       "\n",
       "    .dataframe thead th {\n",
       "        text-align: right;\n",
       "    }\n",
       "</style>\n",
       "<table border=\"1\" class=\"dataframe\">\n",
       "  <thead>\n",
       "    <tr style=\"text-align: right;\">\n",
       "      <th></th>\n",
       "      <th>InvoiceDate</th>\n",
       "      <th>Description</th>\n",
       "      <th>StockCode</th>\n",
       "      <th>Quantity</th>\n",
       "      <th>CustomerID</th>\n",
       "      <th>train_split</th>\n",
       "    </tr>\n",
       "  </thead>\n",
       "  <tbody>\n",
       "    <tr>\n",
       "      <th>7</th>\n",
       "      <td>2010-12-01 08:28:00</td>\n",
       "      <td>hand warmer union jack</td>\n",
       "      <td>1562</td>\n",
       "      <td>6</td>\n",
       "      <td>17850</td>\n",
       "      <td>1</td>\n",
       "    </tr>\n",
       "    <tr>\n",
       "      <th>8</th>\n",
       "      <td>2010-12-01 08:28:00</td>\n",
       "      <td>hand warmer red polka dot</td>\n",
       "      <td>1559</td>\n",
       "      <td>6</td>\n",
       "      <td>17850</td>\n",
       "      <td>1</td>\n",
       "    </tr>\n",
       "    <tr>\n",
       "      <th>9</th>\n",
       "      <td>2010-12-01 08:34:00</td>\n",
       "      <td>assorted colour bird ornament</td>\n",
       "      <td>217</td>\n",
       "      <td>32</td>\n",
       "      <td>13047</td>\n",
       "      <td>1</td>\n",
       "    </tr>\n",
       "    <tr>\n",
       "      <th>10</th>\n",
       "      <td>2010-12-01 08:34:00</td>\n",
       "      <td>poppy's playhouse bedroom</td>\n",
       "      <td>2615</td>\n",
       "      <td>6</td>\n",
       "      <td>13047</td>\n",
       "      <td>1</td>\n",
       "    </tr>\n",
       "    <tr>\n",
       "      <th>11</th>\n",
       "      <td>2010-12-01 08:34:00</td>\n",
       "      <td>poppy's playhouse kitchen</td>\n",
       "      <td>2616</td>\n",
       "      <td>6</td>\n",
       "      <td>13047</td>\n",
       "      <td>1</td>\n",
       "    </tr>\n",
       "  </tbody>\n",
       "</table>\n",
       "</div>"
      ],
      "text/plain": [
       "           InvoiceDate                    Description  StockCode  Quantity  \\\n",
       "7  2010-12-01 08:28:00         hand warmer union jack       1562         6   \n",
       "8  2010-12-01 08:28:00      hand warmer red polka dot       1559         6   \n",
       "9  2010-12-01 08:34:00  assorted colour bird ornament        217        32   \n",
       "10 2010-12-01 08:34:00     poppy's playhouse bedroom        2615         6   \n",
       "11 2010-12-01 08:34:00      poppy's playhouse kitchen       2616         6   \n",
       "\n",
       "    CustomerID  train_split  \n",
       "7        17850            1  \n",
       "8        17850            1  \n",
       "9        13047            1  \n",
       "10       13047            1  \n",
       "11       13047            1  "
      ]
     },
     "execution_count": 11,
     "metadata": {},
     "output_type": "execute_result"
    }
   ],
   "source": [
    "df_limited.head()"
   ]
  },
  {
   "cell_type": "code",
   "execution_count": 12,
   "metadata": {},
   "outputs": [
    {
     "name": "stdout",
     "output_type": "stream",
     "text": [
      "train set shape: (2665, 2304) and test set shape: (2665, 2304)\n",
      "train set percentage of zeros: 98.92548402647488 and test set percentage of zeros: 99.50893787784032\n"
     ]
    }
   ],
   "source": [
    "# the Categoricals data structure consists of a categories array and an integer array of codes which point to \n",
    "# the real value in the categories array\n",
    "user_cat = df_limited['CustomerID'].astype('category')\n",
    "item_cat = df_limited['StockCode'].astype(\"category\")\n",
    "\n",
    "# create a sparse matrix of all the item/user/counts triples for the train set and test set\n",
    "# https://docs.scipy.org/doc/scipy/reference/generated/scipy.sparse.coo_matrix.html#scipy.sparse.coo_matrix\n",
    "item_user_train = coo_matrix((df_limited['train_split'],\n",
    "                              (item_cat.cat.codes,\n",
    "                               user_cat.cat.codes))).tocsr()\n",
    "\n",
    "# remove zero entries\n",
    "item_user_train.eliminate_zeros()\n",
    "\n",
    "# produce transpose of item_user_train\n",
    "user_item_train = item_user_train.T\n",
    "\n",
    "item_user_test = coo_matrix(((~df_limited['train_split'].astype(bool)).astype(int),\n",
    "                             (item_cat.cat.codes,\n",
    "                              user_cat.cat.codes))).tocsr()\n",
    "\n",
    "# remove zero entries\n",
    "item_user_test.eliminate_zeros()  \n",
    "\n",
    "# produce transpose of item_user_test\n",
    "user_item_test = item_user_test.T\n",
    "\n",
    "# map each item and user category to a unique numeric code\n",
    "user_map = dict(zip(user_cat, user_cat.cat.codes))\n",
    "item_map = dict(zip(item_cat, item_cat.cat.codes))\n",
    "\n",
    "def get_keys(value, dictionary):\n",
    "    \"\"\"Function to get dictionary keys with specifiec value\"\"\"\n",
    "    return list(dictionary.keys())[list(dictionary.values()).index(value)]\n",
    "\n",
    "# confirm shapes\n",
    "print(f\"train set shape: {item_user_train.shape} and test set shape: {item_user_test.shape}\")\n",
    "\n",
    "# check sparsity\n",
    "pzeros_train = 100 * (1 - item_user_train.count_nonzero() / (item_user_train.shape[0] * item_user_train.shape[1]))\n",
    "pzeros_test = 100 * (1 - item_user_test.count_nonzero() / (item_user_test.shape[0] * item_user_test.shape[1]))\n",
    "print(f\"train set percentage of zeros: {pzeros_train} and test set percentage of zeros: {pzeros_test}\")"
   ]
  },
  {
   "cell_type": "code",
   "execution_count": 13,
   "metadata": {},
   "outputs": [
    {
     "data": {
      "text/plain": [
       "set()"
      ]
     },
     "execution_count": 13,
     "metadata": {},
     "output_type": "execute_result"
    }
   ],
   "source": [
    "# users with no items on the train set and not items on the test set\n",
    "zero_users_test = (np.squeeze(np.asarray(user_item_test.sum(axis=1))) == 0).nonzero()[0]\n",
    "zero_users_train = (np.squeeze(np.asarray(user_item_train.sum(axis=1))) == 0).nonzero()[0]\n",
    "set(zero_users_test).intersection(zero_users_train)"
   ]
  },
  {
   "cell_type": "code",
   "execution_count": 14,
   "metadata": {},
   "outputs": [
    {
     "data": {
      "text/html": [
       "<div>\n",
       "<style scoped>\n",
       "    .dataframe tbody tr th:only-of-type {\n",
       "        vertical-align: middle;\n",
       "    }\n",
       "\n",
       "    .dataframe tbody tr th {\n",
       "        vertical-align: top;\n",
       "    }\n",
       "\n",
       "    .dataframe thead th {\n",
       "        text-align: right;\n",
       "    }\n",
       "</style>\n",
       "<table border=\"1\" class=\"dataframe\">\n",
       "  <thead>\n",
       "    <tr style=\"text-align: right;\">\n",
       "      <th></th>\n",
       "      <th>InvoiceDate</th>\n",
       "      <th>Description</th>\n",
       "      <th>StockCode</th>\n",
       "      <th>Quantity</th>\n",
       "      <th>CustomerID</th>\n",
       "      <th>train_split</th>\n",
       "    </tr>\n",
       "  </thead>\n",
       "  <tbody>\n",
       "    <tr>\n",
       "      <th>1511</th>\n",
       "      <td>2010-12-01 14:41:00</td>\n",
       "      <td>chilli lights</td>\n",
       "      <td>725</td>\n",
       "      <td>24</td>\n",
       "      <td>17841</td>\n",
       "      <td>1</td>\n",
       "    </tr>\n",
       "    <tr>\n",
       "      <th>4641</th>\n",
       "      <td>2010-12-03 14:35:00</td>\n",
       "      <td>chilli lights</td>\n",
       "      <td>725</td>\n",
       "      <td>24</td>\n",
       "      <td>17841</td>\n",
       "      <td>1</td>\n",
       "    </tr>\n",
       "    <tr>\n",
       "      <th>9170</th>\n",
       "      <td>2010-12-06 14:51:00</td>\n",
       "      <td>chilli lights</td>\n",
       "      <td>725</td>\n",
       "      <td>30</td>\n",
       "      <td>17841</td>\n",
       "      <td>1</td>\n",
       "    </tr>\n",
       "    <tr>\n",
       "      <th>19878</th>\n",
       "      <td>2010-12-14 14:40:00</td>\n",
       "      <td>chilli lights</td>\n",
       "      <td>725</td>\n",
       "      <td>24</td>\n",
       "      <td>17841</td>\n",
       "      <td>1</td>\n",
       "    </tr>\n",
       "    <tr>\n",
       "      <th>24043</th>\n",
       "      <td>2010-12-19 13:59:00</td>\n",
       "      <td>chilli lights</td>\n",
       "      <td>725</td>\n",
       "      <td>24</td>\n",
       "      <td>17841</td>\n",
       "      <td>1</td>\n",
       "    </tr>\n",
       "    <tr>\n",
       "      <th>26534</th>\n",
       "      <td>2011-01-04 12:51:00</td>\n",
       "      <td>chilli lights</td>\n",
       "      <td>725</td>\n",
       "      <td>48</td>\n",
       "      <td>17841</td>\n",
       "      <td>1</td>\n",
       "    </tr>\n",
       "    <tr>\n",
       "      <th>31341</th>\n",
       "      <td>2011-01-09 14:36:00</td>\n",
       "      <td>chilli lights</td>\n",
       "      <td>725</td>\n",
       "      <td>34</td>\n",
       "      <td>17841</td>\n",
       "      <td>1</td>\n",
       "    </tr>\n",
       "    <tr>\n",
       "      <th>33589</th>\n",
       "      <td>2011-01-12 12:31:00</td>\n",
       "      <td>chilli lights</td>\n",
       "      <td>725</td>\n",
       "      <td>3</td>\n",
       "      <td>17841</td>\n",
       "      <td>1</td>\n",
       "    </tr>\n",
       "    <tr>\n",
       "      <th>35928</th>\n",
       "      <td>2011-01-16 13:51:00</td>\n",
       "      <td>chilli lights</td>\n",
       "      <td>725</td>\n",
       "      <td>30</td>\n",
       "      <td>17841</td>\n",
       "      <td>1</td>\n",
       "    </tr>\n",
       "    <tr>\n",
       "      <th>38373</th>\n",
       "      <td>2011-01-19 14:39:00</td>\n",
       "      <td>chilli lights</td>\n",
       "      <td>725</td>\n",
       "      <td>24</td>\n",
       "      <td>17841</td>\n",
       "      <td>1</td>\n",
       "    </tr>\n",
       "    <tr>\n",
       "      <th>43872</th>\n",
       "      <td>2011-01-26 15:00:00</td>\n",
       "      <td>chilli lights</td>\n",
       "      <td>725</td>\n",
       "      <td>24</td>\n",
       "      <td>17841</td>\n",
       "      <td>1</td>\n",
       "    </tr>\n",
       "    <tr>\n",
       "      <th>49731</th>\n",
       "      <td>2011-02-02 15:48:00</td>\n",
       "      <td>chilli lights</td>\n",
       "      <td>725</td>\n",
       "      <td>24</td>\n",
       "      <td>17841</td>\n",
       "      <td>1</td>\n",
       "    </tr>\n",
       "    <tr>\n",
       "      <th>59429</th>\n",
       "      <td>2011-02-17 14:19:00</td>\n",
       "      <td>chilli lights</td>\n",
       "      <td>725</td>\n",
       "      <td>6</td>\n",
       "      <td>17841</td>\n",
       "      <td>1</td>\n",
       "    </tr>\n",
       "    <tr>\n",
       "      <th>62949</th>\n",
       "      <td>2011-02-22 16:03:00</td>\n",
       "      <td>chilli lights</td>\n",
       "      <td>725</td>\n",
       "      <td>2</td>\n",
       "      <td>17841</td>\n",
       "      <td>1</td>\n",
       "    </tr>\n",
       "    <tr>\n",
       "      <th>67605</th>\n",
       "      <td>2011-02-28 15:05:00</td>\n",
       "      <td>chilli lights</td>\n",
       "      <td>725</td>\n",
       "      <td>4</td>\n",
       "      <td>17841</td>\n",
       "      <td>1</td>\n",
       "    </tr>\n",
       "    <tr>\n",
       "      <th>70564</th>\n",
       "      <td>2011-03-03 15:02:00</td>\n",
       "      <td>chilli lights</td>\n",
       "      <td>725</td>\n",
       "      <td>6</td>\n",
       "      <td>17841</td>\n",
       "      <td>1</td>\n",
       "    </tr>\n",
       "    <tr>\n",
       "      <th>73259</th>\n",
       "      <td>2011-03-07 14:33:00</td>\n",
       "      <td>chilli lights</td>\n",
       "      <td>725</td>\n",
       "      <td>1</td>\n",
       "      <td>17841</td>\n",
       "      <td>1</td>\n",
       "    </tr>\n",
       "    <tr>\n",
       "      <th>76665</th>\n",
       "      <td>2011-03-10 15:01:00</td>\n",
       "      <td>chilli lights</td>\n",
       "      <td>725</td>\n",
       "      <td>3</td>\n",
       "      <td>17841</td>\n",
       "      <td>1</td>\n",
       "    </tr>\n",
       "    <tr>\n",
       "      <th>78928</th>\n",
       "      <td>2011-03-14 15:40:00</td>\n",
       "      <td>chilli lights</td>\n",
       "      <td>725</td>\n",
       "      <td>1</td>\n",
       "      <td>17841</td>\n",
       "      <td>1</td>\n",
       "    </tr>\n",
       "  </tbody>\n",
       "</table>\n",
       "</div>"
      ],
      "text/plain": [
       "              InvoiceDate    Description  StockCode  Quantity  CustomerID  \\\n",
       "1511  2010-12-01 14:41:00  chilli lights        725        24       17841   \n",
       "4641  2010-12-03 14:35:00  chilli lights        725        24       17841   \n",
       "9170  2010-12-06 14:51:00  chilli lights        725        30       17841   \n",
       "19878 2010-12-14 14:40:00  chilli lights        725        24       17841   \n",
       "24043 2010-12-19 13:59:00  chilli lights        725        24       17841   \n",
       "26534 2011-01-04 12:51:00  chilli lights        725        48       17841   \n",
       "31341 2011-01-09 14:36:00  chilli lights        725        34       17841   \n",
       "33589 2011-01-12 12:31:00  chilli lights        725         3       17841   \n",
       "35928 2011-01-16 13:51:00  chilli lights        725        30       17841   \n",
       "38373 2011-01-19 14:39:00  chilli lights        725        24       17841   \n",
       "43872 2011-01-26 15:00:00  chilli lights        725        24       17841   \n",
       "49731 2011-02-02 15:48:00  chilli lights        725        24       17841   \n",
       "59429 2011-02-17 14:19:00  chilli lights        725         6       17841   \n",
       "62949 2011-02-22 16:03:00  chilli lights        725         2       17841   \n",
       "67605 2011-02-28 15:05:00  chilli lights        725         4       17841   \n",
       "70564 2011-03-03 15:02:00  chilli lights        725         6       17841   \n",
       "73259 2011-03-07 14:33:00  chilli lights        725         1       17841   \n",
       "76665 2011-03-10 15:01:00  chilli lights        725         3       17841   \n",
       "78928 2011-03-14 15:40:00  chilli lights        725         1       17841   \n",
       "\n",
       "       train_split  \n",
       "1511             1  \n",
       "4641             1  \n",
       "9170             1  \n",
       "19878            1  \n",
       "24043            1  \n",
       "26534            1  \n",
       "31341            1  \n",
       "33589            1  \n",
       "35928            1  \n",
       "38373            1  \n",
       "43872            1  \n",
       "49731            1  \n",
       "59429            1  \n",
       "62949            1  \n",
       "67605            1  \n",
       "70564            1  \n",
       "73259            1  \n",
       "76665            1  \n",
       "78928            1  "
      ]
     },
     "execution_count": 14,
     "metadata": {},
     "output_type": "execute_result"
    }
   ],
   "source": [
    "# most frequent user, item pair in train set\n",
    "item_id, user_id = np.unravel_index(item_user_train.argmax(), item_user_train.shape)\n",
    "item_id, user_id = get_keys(item_id, item_map), get_keys(user_id, user_map)\n",
    "df_limited.loc[(df_limited['CustomerID'] == user_id) & (df_limited['StockCode'] == item_id) & (df_limited['train_split'] == 1)]"
   ]
  },
  {
   "cell_type": "markdown",
   "metadata": {},
   "source": [
    "## Implementing Alternative Least Squares (ALS)"
   ]
  },
  {
   "cell_type": "code",
   "execution_count": 15,
   "metadata": {},
   "outputs": [
    {
     "name": "stderr",
     "output_type": "stream",
     "text": [
      "WARNING:root:OpenBLAS detected. Its highly recommend to set the environment variable 'export OPENBLAS_NUM_THREADS=1' to disable its internal multithreading\n"
     ]
    },
    {
     "data": {
      "application/vnd.jupyter.widget-view+json": {
       "model_id": "e92e10cfa30d42798c221cee2f18e26f",
       "version_major": 2,
       "version_minor": 0
      },
      "text/plain": [
       "HBox(children=(HTML(value=''), FloatProgress(value=0.0, max=30.0), HTML(value='')))"
      ]
     },
     "metadata": {},
     "output_type": "display_data"
    },
    {
     "name": "stdout",
     "output_type": "stream",
     "text": [
      "\n"
     ]
    }
   ],
   "source": [
    "# initialize a model\n",
    "alpha = 20  # as we observe more evidence for positive preference, our confidence in pui = 1 increases according to alpha (rate of increase)\n",
    "als_model = AlternatingLeastSquares(factors=200, regularization=0.01, iterations=30, random_state=0)\n",
    "\n",
    "# train the model on a sparse matrix of item/user/confidence weights\n",
    "# os.environ['MKL_NUM_THREADS'] = '1'\n",
    "# os.environ['OPENBLAS_NUM_THREADS'] = '1'\n",
    "# about the alpha hyperparameter: https://github.com/benfred/implicit/issues/199#issuecomment-490350326\n",
    "als_model.fit((item_user_train * alpha).astype('double'))"
   ]
  },
  {
   "cell_type": "code",
   "execution_count": 16,
   "metadata": {},
   "outputs": [],
   "source": [
    "def get_keys(value, dictionary):\n",
    "    \"\"\"Function to get dictionary keys with specifiec value\"\"\"\n",
    "    return list(dictionary.keys())[list(dictionary.values()).index(value)]\n",
    "\n",
    "def get_values(key, dictionary):\n",
    "    \"\"\"Function to get dictionary values from a specific key\"\"\"\n",
    "    return(dictionary[key])"
   ]
  },
  {
   "cell_type": "code",
   "execution_count": 17,
   "metadata": {},
   "outputs": [
    {
     "name": "stderr",
     "output_type": "stream",
     "text": [
      "/opt/anaconda3/envs/DMDSAA/lib/python3.7/site-packages/ipykernel_launcher.py:2: SettingWithCopyWarning:\n",
      "\n",
      "\n",
      "A value is trying to be set on a copy of a slice from a DataFrame\n",
      "\n",
      "See the caveats in the documentation: https://pandas.pydata.org/pandas-docs/stable/user_guide/indexing.html#returning-a-view-versus-a-copy\n",
      "\n"
     ]
    },
    {
     "data": {
      "text/html": [
       "<div>\n",
       "<style scoped>\n",
       "    .dataframe tbody tr th:only-of-type {\n",
       "        vertical-align: middle;\n",
       "    }\n",
       "\n",
       "    .dataframe tbody tr th {\n",
       "        vertical-align: top;\n",
       "    }\n",
       "\n",
       "    .dataframe thead th {\n",
       "        text-align: right;\n",
       "    }\n",
       "</style>\n",
       "<table border=\"1\" class=\"dataframe\">\n",
       "  <thead>\n",
       "    <tr style=\"text-align: right;\">\n",
       "      <th></th>\n",
       "      <th>Description</th>\n",
       "    </tr>\n",
       "    <tr>\n",
       "      <th>StockCode</th>\n",
       "      <th></th>\n",
       "    </tr>\n",
       "  </thead>\n",
       "  <tbody>\n",
       "    <tr>\n",
       "      <th>3716</th>\n",
       "      <td>white hanging heart t-light holder</td>\n",
       "    </tr>\n",
       "    <tr>\n",
       "      <th>3724</th>\n",
       "      <td>white metal lantern</td>\n",
       "    </tr>\n",
       "    <tr>\n",
       "      <th>861</th>\n",
       "      <td>cream cupid hearts coat hanger</td>\n",
       "    </tr>\n",
       "    <tr>\n",
       "      <th>1813</th>\n",
       "      <td>knitted union flag hot water bottle</td>\n",
       "    </tr>\n",
       "    <tr>\n",
       "      <th>2776</th>\n",
       "      <td>red woolly hottie white heart.</td>\n",
       "    </tr>\n",
       "  </tbody>\n",
       "</table>\n",
       "</div>"
      ],
      "text/plain": [
       "                                   Description\n",
       "StockCode                                     \n",
       "3716        white hanging heart t-light holder\n",
       "3724                       white metal lantern\n",
       "861             cream cupid hearts coat hanger\n",
       "1813       knitted union flag hot water bottle\n",
       "2776            red woolly hottie white heart."
      ]
     },
     "execution_count": 17,
     "metadata": {},
     "output_type": "execute_result"
    }
   ],
   "source": [
    "gloss = df[['StockCode','Description']]\n",
    "gloss.drop_duplicates(subset=['StockCode'],inplace=True)\n",
    "gloss.reset_index(drop=True,inplace=True)\n",
    "gloss.set_index('StockCode',inplace=True)\n",
    "gloss.head()"
   ]
  },
  {
   "cell_type": "code",
   "execution_count": 18,
   "metadata": {},
   "outputs": [],
   "source": [
    "my_dict = gloss.to_dict()\n",
    "my_dict = my_dict.pop('Description', None)"
   ]
  },
  {
   "cell_type": "code",
   "execution_count": 19,
   "metadata": {},
   "outputs": [],
   "source": [
    "# recommend items for a user. \n",
    "# the recommended items have the largest inner product with the user vector\n",
    "user_id = list(user_map.keys())[0]\n",
    "recommendations = als_model.recommend(user_map[user_id], user_item_train)\n",
    "#final_pred = list(map(lambda x: (get_values(x[0], my_dict), x[1]), new_recs))[:5]\n",
    "new_recs = list(map(lambda x: (get_keys(x[0], item_map), x[1]), recommendations))\n",
    "\n",
    "###\n",
    "new_recs_df = pd.DataFrame(new_recs, columns=['stock','score'])\n",
    "new_recs_df['description'] = new_recs_df['stock'].apply(lambda x: get_values(x, my_dict))\n",
    "new_recs_df = new_recs_df[['stock','description','score']]\n",
    "###"
   ]
  },
  {
   "cell_type": "code",
   "execution_count": 20,
   "metadata": {},
   "outputs": [],
   "source": [
    "stockids = []\n",
    "names = []\n",
    "scores = []\n",
    "\n",
    "for i in range(len(new_recs_df)):\n",
    "    stockids.append(new_recs_df.iloc[i][0])\n",
    "    names.append(new_recs_df.iloc[i][1])\n",
    "    scores.append(new_recs_df.iloc[i][2])    "
   ]
  },
  {
   "cell_type": "code",
   "execution_count": 21,
   "metadata": {},
   "outputs": [],
   "source": [
    "new_recs_df = pd.DataFrame(new_recs, columns=['stock','score'])\n",
    "new_recs_df['description'] = new_recs_df['stock'].apply(lambda x: get_values(x, my_dict))\n",
    "new_recs = pd.DataFrame()"
   ]
  },
  {
   "cell_type": "code",
   "execution_count": 22,
   "metadata": {},
   "outputs": [],
   "source": [
    "final_pred = list(map(lambda x: (get_values(x[0], my_dict), x[1]), new_recs))[:5]"
   ]
  },
  {
   "cell_type": "code",
   "execution_count": 23,
   "metadata": {},
   "outputs": [],
   "source": [
    "cwd = os.getcwd()\n",
    "backOne = os.path.dirname(cwd)\n",
    "\n",
    "#Serializing the model\n",
    "with open(str(backOne) + \"/Application/model/model.pkl\", 'wb') as f:\n",
    "    pickle.dump(als_model, f)\n",
    "\n",
    "#De-Serializing the model\n",
    "with open(str(backOne) + \"/Application/model/model.pkl\", 'rb') as f:\n",
    "    clf_loaded = pickle.load(f)\n",
    "    \n",
    "#Check the pickle file by inputing the variables\n",
    "model = pickle.load(open(str(backOne) + \"/Application/model/model.pkl\",'rb'))"
   ]
  },
  {
   "cell_type": "markdown",
   "metadata": {},
   "source": [
    "## Product Recommendation"
   ]
  },
  {
   "cell_type": "code",
   "execution_count": 24,
   "metadata": {},
   "outputs": [],
   "source": [
    "# the recommended items have the largest inner product with the user vector\n",
    "user_id = list(user_map.keys())[0]\n",
    "recommendations = als_model.recommend(user_map[user_id], user_item_train)\n",
    "final_pred = list(map(lambda x: (get_values(x[0], my_dict), x[1]), new_recs))[:5]\n",
    "new_recs = list(map(lambda x: (get_keys(x[0], item_map), x[1]), recommendations))\n",
    "\n",
    "###\n",
    "new_recs_df = pd.DataFrame(new_recs, columns=['stock','score'])\n",
    "new_recs_df['description'] = new_recs_df['stock'].apply(lambda x: get_values(x, my_dict))\n",
    "new_recs_df = new_recs_df[['stock','description','score']]\n",
    "###"
   ]
  },
  {
   "cell_type": "code",
   "execution_count": 25,
   "metadata": {},
   "outputs": [
    {
     "data": {
      "text/plain": [
       "[(1562, 1.0),\n",
       " (1561, 0.67777795),\n",
       " (1560, 0.6359729),\n",
       " (1557, 0.6226144),\n",
       " (1556, 0.56480587),\n",
       " (2680, 0.46546838),\n",
       " (808, 0.45501885),\n",
       " (2712, 0.43898374),\n",
       " (3140, 0.43812343),\n",
       " (2533, 0.437591)]"
      ]
     },
     "execution_count": 25,
     "metadata": {},
     "output_type": "execute_result"
    }
   ],
   "source": [
    "# find related items\n",
    "# the related items have the largest inner product with the item vector\n",
    "item_id = list(item_map.keys())[0]\n",
    "related = als_model.similar_items(item_map[item_id])\n",
    "list(map(lambda x: (get_keys(x[0], item_map), x[1]), related))"
   ]
  },
  {
   "cell_type": "markdown",
   "metadata": {},
   "source": [
    "## Building the Popular Model as baseline"
   ]
  },
  {
   "cell_type": "code",
   "execution_count": 26,
   "metadata": {},
   "outputs": [],
   "source": [
    "# Baseline: Recommend the most popular items to every user\n",
    "class PopularRecommender():\n",
    "    \"\"\"Baseline Recommender that always suggests the most popular items to every user.\n",
    "    \"\"\"\n",
    "    def fit(self, item_users):\n",
    "        self.item_id_sort = np.argsort(np.squeeze(np.asarray(item_users.sum(axis=1).reshape(-1))))[::-1]\n",
    "    \n",
    "    def recommend(self, userid, user_items, N=10, filter_already_liked_items=None, filter_items=None, recalculate_user=None):\n",
    "        if filter_already_liked_items != None or filter_items != None or recalculate_user != None:\n",
    "            raise NotImplementedError(\"filter_already_liked_items, filter_items and recalculate_user aren't support yet\")\n",
    "        \n",
    "        return list(zip(self.item_id_sort[:N], range(1, N + 1)))"
   ]
  },
  {
   "cell_type": "code",
   "execution_count": 27,
   "metadata": {},
   "outputs": [],
   "source": [
    "# Fitting PopularRecommender model\n",
    "pop_model = PopularRecommender()\n",
    "pop_model.fit(item_user_train)"
   ]
  },
  {
   "cell_type": "markdown",
   "metadata": {},
   "source": [
    "## Model Evaluation - AUC"
   ]
  },
  {
   "cell_type": "code",
   "execution_count": 28,
   "metadata": {
    "scrolled": true
   },
   "outputs": [
    {
     "data": {
      "application/vnd.jupyter.widget-view+json": {
       "model_id": "ec2ac869a3734ccba3ea188a79cbe43d",
       "version_major": 2,
       "version_minor": 0
      },
      "text/plain": [
       "HBox(children=(HTML(value=''), FloatProgress(value=0.0, max=2304.0), HTML(value='')))"
      ]
     },
     "metadata": {},
     "output_type": "display_data"
    },
    {
     "name": "stdout",
     "output_type": "stream",
     "text": [
      "\n"
     ]
    },
    {
     "data": {
      "application/vnd.jupyter.widget-view+json": {
       "model_id": "43b2d014936d4d0c9def0c99907d546b",
       "version_major": 2,
       "version_minor": 0
      },
      "text/plain": [
       "HBox(children=(HTML(value=''), FloatProgress(value=0.0, max=2304.0), HTML(value='')))"
      ]
     },
     "metadata": {},
     "output_type": "display_data"
    },
    {
     "name": "stdout",
     "output_type": "stream",
     "text": [
      "\n"
     ]
    },
    {
     "data": {
      "text/html": [
       "<div>\n",
       "<style scoped>\n",
       "    .dataframe tbody tr th:only-of-type {\n",
       "        vertical-align: middle;\n",
       "    }\n",
       "\n",
       "    .dataframe tbody tr th {\n",
       "        vertical-align: top;\n",
       "    }\n",
       "\n",
       "    .dataframe thead th {\n",
       "        text-align: right;\n",
       "    }\n",
       "</style>\n",
       "<table border=\"1\" class=\"dataframe\">\n",
       "  <thead>\n",
       "    <tr style=\"text-align: right;\">\n",
       "      <th></th>\n",
       "      <th>pop_model</th>\n",
       "      <th>als_model</th>\n",
       "    </tr>\n",
       "  </thead>\n",
       "  <tbody>\n",
       "    <tr>\n",
       "      <th>precision</th>\n",
       "      <td>0.099316</td>\n",
       "      <td>0.049658</td>\n",
       "    </tr>\n",
       "    <tr>\n",
       "      <th>map</th>\n",
       "      <td>0.049085</td>\n",
       "      <td>0.019590</td>\n",
       "    </tr>\n",
       "    <tr>\n",
       "      <th>ndcg</th>\n",
       "      <td>0.109797</td>\n",
       "      <td>0.048131</td>\n",
       "    </tr>\n",
       "    <tr>\n",
       "      <th>auc</th>\n",
       "      <td>0.523161</td>\n",
       "      <td>0.508205</td>\n",
       "    </tr>\n",
       "  </tbody>\n",
       "</table>\n",
       "</div>"
      ],
      "text/plain": [
       "           pop_model  als_model\n",
       "precision   0.099316   0.049658\n",
       "map         0.049085   0.019590\n",
       "ndcg        0.109797   0.048131\n",
       "auc         0.523161   0.508205"
      ]
     },
     "execution_count": 28,
     "metadata": {},
     "output_type": "execute_result"
    }
   ],
   "source": [
    "# Evaluate models. \n",
    "# Precision at K, Mean Average Precision at K, Normalized Discounted Cumulative Gain at K, AUC at K\n",
    "eval_models = {'pop_model': pop_model, 'als_model': als_model}\n",
    "eval_table = {}\n",
    "for k, v in eval_models.items():\n",
    "    eval_table[k] = ranking_metrics_at_k(v, user_item_train, user_item_test, K=10, show_progress=True, num_threads=0)\n",
    "eval_table = pd.DataFrame(eval_table)\n",
    "eval_table"
   ]
  },
  {
   "cell_type": "code",
   "execution_count": null,
   "metadata": {},
   "outputs": [],
   "source": []
  }
 ],
 "metadata": {
  "kernelspec": {
   "display_name": "Python 3",
   "language": "python",
   "name": "python3"
  },
  "language_info": {
   "codemirror_mode": {
    "name": "ipython",
    "version": 3
   },
   "file_extension": ".py",
   "mimetype": "text/x-python",
   "name": "python",
   "nbconvert_exporter": "python",
   "pygments_lexer": "ipython3",
   "version": "3.7.9"
  }
 },
 "nbformat": 4,
 "nbformat_minor": 4
}
